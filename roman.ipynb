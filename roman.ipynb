{
 "cells": [
  {
   "cell_type": "markdown",
   "id": "7aef7346",
   "metadata": {},
   "source": [
    "# Roman"
   ]
  },
  {
   "cell_type": "code",
   "execution_count": 1,
   "id": "1f182f97",
   "metadata": {},
   "outputs": [],
   "source": [
    "import pandas as pd\n",
    "\n",
    "normatives_df = pd.read_pickle('data/townsnet10/normatives.pickle')\n",
    "service_types_df = pd.read_pickle('data/townsnet10/service_types.pickle')"
   ]
  },
  {
   "cell_type": "code",
   "execution_count": 2,
   "id": "aeda9a2b",
   "metadata": {},
   "outputs": [],
   "source": [
    "import geopandas as gpd\n",
    "\n",
    "towns_gdf = gpd.read_file('data/townsnet10/towns.geojson')\n",
    "acc_mx = pd.read_pickle('data/townsnet10/acc_mx.pickle')"
   ]
  },
  {
   "cell_type": "code",
   "execution_count": null,
   "id": "cb9d1340",
   "metadata": {},
   "outputs": [
    {
     "name": "stderr",
     "output_type": "stream",
     "text": [
      "d:\\programming\\github\\changer-migration-model\\.venv\\lib\\site-packages\\pandera\\_pandas_deprecated.py:160: FutureWarning: Importing pandas-specific classes and functions from the\n",
      "top-level pandera module will be **removed in a future version of pandera**.\n",
      "If you're using pandera to validate pandas objects, we highly recommend updating\n",
      "your import:\n",
      "\n",
      "```\n",
      "# old import\n",
      "import pandera as pa\n",
      "\n",
      "# new import\n",
      "import pandera.pandas as pa\n",
      "```\n",
      "\n",
      "If you're using pandera to validate objects from other compatible libraries\n",
      "like pyspark or polars, see the supported libraries section of the documentation\n",
      "for more information on how to import pandera:\n",
      "\n",
      "https://pandera.readthedocs.io/en/stable/supported_libraries.html\n",
      "\n",
      "To disable this warning, set the environment variable:\n",
      "\n",
      "```\n",
      "export DISABLE_PANDERA_IMPORT_WARNING=True\n",
      "```\n",
      "\n",
      "  warnings.warn(_future_warning, FutureWarning)\n"
     ]
    }
   ],
   "source": [
    "from townsnet.provision.service_type import ServiceType\n",
    "service_types = ServiceType.initialize_service_types(service_types_df, normatives_df)"
   ]
  },
  {
   "cell_type": "code",
   "execution_count": 4,
   "id": "1c3178e7",
   "metadata": {},
   "outputs": [],
   "source": [
    "from townsnet.provision import ProvisionModel\n",
    "\n",
    "model = ProvisionModel(towns_gdf, acc_mx, verbose=False)"
   ]
  },
  {
   "cell_type": "code",
   "execution_count": null,
   "id": "572763fe",
   "metadata": {},
   "outputs": [],
   "source": [
    "import random"
   ]
  },
  {
   "cell_type": "code",
   "execution_count": 8,
   "id": "c6eab9b7",
   "metadata": {},
   "outputs": [],
   "source": [
    "\n",
    "supplies_df = pd.DataFrame([random.randint(0,100) for _ in towns_gdf.index], columns=['supply'], index=towns_gdf.index)"
   ]
  },
  {
   "cell_type": "code",
   "execution_count": 9,
   "id": "b9974f94",
   "metadata": {},
   "outputs": [
    {
     "data": {
      "application/vnd.microsoft.datawrangler.viewer.v0+json": {
       "columns": [
        {
         "name": "index",
         "rawType": "int64",
         "type": "integer"
        },
        {
         "name": "supply",
         "rawType": "int64",
         "type": "integer"
        }
       ],
       "ref": "385e1dd6-1e14-4c26-82f4-c1484c8e8536",
       "rows": [
        [
         "0",
         "94"
        ],
        [
         "1",
         "56"
        ],
        [
         "2",
         "9"
        ],
        [
         "3",
         "20"
        ],
        [
         "4",
         "24"
        ],
        [
         "5",
         "19"
        ],
        [
         "6",
         "29"
        ],
        [
         "7",
         "77"
        ],
        [
         "8",
         "65"
        ],
        [
         "9",
         "49"
        ],
        [
         "10",
         "41"
        ],
        [
         "11",
         "27"
        ],
        [
         "12",
         "89"
        ],
        [
         "13",
         "77"
        ],
        [
         "14",
         "73"
        ],
        [
         "15",
         "86"
        ],
        [
         "16",
         "72"
        ],
        [
         "17",
         "61"
        ],
        [
         "18",
         "73"
        ],
        [
         "19",
         "33"
        ],
        [
         "20",
         "10"
        ],
        [
         "21",
         "45"
        ],
        [
         "22",
         "24"
        ],
        [
         "23",
         "92"
        ],
        [
         "24",
         "26"
        ],
        [
         "25",
         "48"
        ],
        [
         "26",
         "38"
        ],
        [
         "27",
         "65"
        ],
        [
         "28",
         "65"
        ],
        [
         "29",
         "100"
        ],
        [
         "30",
         "68"
        ],
        [
         "31",
         "89"
        ],
        [
         "32",
         "63"
        ],
        [
         "33",
         "36"
        ],
        [
         "34",
         "83"
        ],
        [
         "35",
         "47"
        ],
        [
         "36",
         "26"
        ],
        [
         "37",
         "24"
        ],
        [
         "38",
         "39"
        ],
        [
         "39",
         "4"
        ],
        [
         "40",
         "45"
        ],
        [
         "41",
         "90"
        ],
        [
         "42",
         "8"
        ],
        [
         "43",
         "2"
        ],
        [
         "44",
         "1"
        ],
        [
         "45",
         "8"
        ],
        [
         "46",
         "41"
        ],
        [
         "47",
         "11"
        ],
        [
         "48",
         "2"
        ],
        [
         "49",
         "6"
        ]
       ],
       "shape": {
        "columns": 1,
        "rows": 2931
       }
      },
      "text/html": [
       "<div>\n",
       "<style scoped>\n",
       "    .dataframe tbody tr th:only-of-type {\n",
       "        vertical-align: middle;\n",
       "    }\n",
       "\n",
       "    .dataframe tbody tr th {\n",
       "        vertical-align: top;\n",
       "    }\n",
       "\n",
       "    .dataframe thead th {\n",
       "        text-align: right;\n",
       "    }\n",
       "</style>\n",
       "<table border=\"1\" class=\"dataframe\">\n",
       "  <thead>\n",
       "    <tr style=\"text-align: right;\">\n",
       "      <th></th>\n",
       "      <th>supply</th>\n",
       "    </tr>\n",
       "  </thead>\n",
       "  <tbody>\n",
       "    <tr>\n",
       "      <th>0</th>\n",
       "      <td>94</td>\n",
       "    </tr>\n",
       "    <tr>\n",
       "      <th>1</th>\n",
       "      <td>56</td>\n",
       "    </tr>\n",
       "    <tr>\n",
       "      <th>2</th>\n",
       "      <td>9</td>\n",
       "    </tr>\n",
       "    <tr>\n",
       "      <th>3</th>\n",
       "      <td>20</td>\n",
       "    </tr>\n",
       "    <tr>\n",
       "      <th>4</th>\n",
       "      <td>24</td>\n",
       "    </tr>\n",
       "    <tr>\n",
       "      <th>...</th>\n",
       "      <td>...</td>\n",
       "    </tr>\n",
       "    <tr>\n",
       "      <th>2926</th>\n",
       "      <td>8</td>\n",
       "    </tr>\n",
       "    <tr>\n",
       "      <th>2927</th>\n",
       "      <td>56</td>\n",
       "    </tr>\n",
       "    <tr>\n",
       "      <th>2928</th>\n",
       "      <td>94</td>\n",
       "    </tr>\n",
       "    <tr>\n",
       "      <th>2929</th>\n",
       "      <td>7</td>\n",
       "    </tr>\n",
       "    <tr>\n",
       "      <th>2930</th>\n",
       "      <td>41</td>\n",
       "    </tr>\n",
       "  </tbody>\n",
       "</table>\n",
       "<p>2931 rows × 1 columns</p>\n",
       "</div>"
      ],
      "text/plain": [
       "      supply\n",
       "0         94\n",
       "1         56\n",
       "2          9\n",
       "3         20\n",
       "4         24\n",
       "...      ...\n",
       "2926       8\n",
       "2927      56\n",
       "2928      94\n",
       "2929       7\n",
       "2930      41\n",
       "\n",
       "[2931 rows x 1 columns]"
      ]
     },
     "execution_count": 9,
     "metadata": {},
     "output_type": "execute_result"
    }
   ],
   "source": [
    "supplies_df"
   ]
  },
  {
   "cell_type": "code",
   "execution_count": 13,
   "id": "397b87ff",
   "metadata": {},
   "outputs": [
    {
     "data": {
      "text/plain": [
       "ServiceType(id=21, name='Детский сад', accessibility_value=29.0, supply_value=5.0, accessibility_type=<AccessibilityType.MINUTES: 'мин'>, supply_type=<SupplyType.SERVICES_PER_1000: 'шт. на 1000 человек'>, category=<Category.BASIC: 'Базовая'>, weight=0.2)"
      ]
     },
     "execution_count": 13,
     "metadata": {},
     "output_type": "execute_result"
    }
   ],
   "source": [
    "service_types[2]"
   ]
  },
  {
   "cell_type": "code",
   "execution_count": 15,
   "id": "a6f82ec4",
   "metadata": {},
   "outputs": [
    {
     "ename": "",
     "evalue": "",
     "output_type": "error",
     "traceback": [
      "\u001b[1;31mCannot execute code, session has been disposed. Please try restarting the Kernel."
     ]
    },
    {
     "ename": "",
     "evalue": "",
     "output_type": "error",
     "traceback": [
      "\u001b[1;31mCannot execute code, session has been disposed. Please try restarting the Kernel. \n",
      "\u001b[1;31mView Jupyter <a href='command:jupyter.viewOutput'>log</a> for further details."
     ]
    }
   ],
   "source": [
    "for i in range(len(service_types)):\n",
    "    model.calculate(supplies_df, service_types[i])"
   ]
  }
 ],
 "metadata": {
  "kernelspec": {
   "display_name": ".venv",
   "language": "python",
   "name": "python3"
  },
  "language_info": {
   "codemirror_mode": {
    "name": "ipython",
    "version": 3
   },
   "file_extension": ".py",
   "mimetype": "text/x-python",
   "name": "python",
   "nbconvert_exporter": "python",
   "pygments_lexer": "ipython3",
   "version": "3.10.11"
  }
 },
 "nbformat": 4,
 "nbformat_minor": 5
}
